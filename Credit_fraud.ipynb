{
 "cells": [
  {
   "cell_type": "markdown",
   "id": "c1a08017",
   "metadata": {},
   "source": [
    "Before you turn this problem in, make sure everything runs as expected. First, **restart the kernel** (in the menubar, select Kernel $\\rightarrow$ Restart) and then **run all cells** (in the menubar, select Cell $\\rightarrow$ Run All).\n",
    "\n",
    "Make sure you fill in any place that says `YOUR CODE HERE` or \"YOUR ANSWER HERE\", as well as your name and collaborators below:"
   ]
  },
  {
   "cell_type": "code",
   "execution_count": 1,
   "id": "f8756ad5",
   "metadata": {},
   "outputs": [],
   "source": [
    "NAME = \"Smruti Rao\"\n",
    "COLLABORATORS = \"\""
   ]
  },
  {
   "cell_type": "markdown",
   "id": "385a1a27",
   "metadata": {},
   "source": [
    "---"
   ]
  },
  {
   "cell_type": "markdown",
   "id": "dae13a9a-fda0-4487-b5cf-d54409e8ed75",
   "metadata": {},
   "source": [
    "1. Load the Datset"
   ]
  },
  {
   "cell_type": "code",
   "execution_count": 2,
   "id": "150cb5e3-712b-4f86-9a7a-c64db0248fa8",
   "metadata": {
    "scrolled": true
   },
   "outputs": [
    {
     "name": "stdout",
     "output_type": "stream",
     "text": [
      "First five rows:\n",
      "   Time        V1        V2        V3        V4        V5        V6        V7  \\\n",
      "0   0.0 -1.359807 -0.072781  2.536347  1.378155 -0.338321  0.462388  0.239599   \n",
      "1   0.0  1.191857  0.266151  0.166480  0.448154  0.060018 -0.082361 -0.078803   \n",
      "2   1.0 -1.358354 -1.340163  1.773209  0.379780 -0.503198  1.800499  0.791461   \n",
      "3   1.0 -0.966272 -0.185226  1.792993 -0.863291 -0.010309  1.247203  0.237609   \n",
      "4   2.0 -1.158233  0.877737  1.548718  0.403034 -0.407193  0.095921  0.592941   \n",
      "\n",
      "         V8        V9  ...       V21       V22       V23       V24       V25  \\\n",
      "0  0.098698  0.363787  ... -0.018307  0.277838 -0.110474  0.066928  0.128539   \n",
      "1  0.085102 -0.255425  ... -0.225775 -0.638672  0.101288 -0.339846  0.167170   \n",
      "2  0.247676 -1.514654  ...  0.247998  0.771679  0.909412 -0.689281 -0.327642   \n",
      "3  0.377436 -1.387024  ... -0.108300  0.005274 -0.190321 -1.175575  0.647376   \n",
      "4 -0.270533  0.817739  ... -0.009431  0.798278 -0.137458  0.141267 -0.206010   \n",
      "\n",
      "        V26       V27       V28  Amount  Class  \n",
      "0 -0.189115  0.133558 -0.021053  149.62      0  \n",
      "1  0.125895 -0.008983  0.014724    2.69      0  \n",
      "2 -0.139097 -0.055353 -0.059752  378.66      0  \n",
      "3 -0.221929  0.062723  0.061458  123.50      0  \n",
      "4  0.502292  0.219422  0.215153   69.99      0  \n",
      "\n",
      "[5 rows x 31 columns]\n",
      "Missing values in the datas:\n",
      "Time      0\n",
      "V1        0\n",
      "V2        0\n",
      "V3        0\n",
      "V4        0\n",
      "V5        0\n",
      "V6        0\n",
      "V7        0\n",
      "V8        0\n",
      "V9        0\n",
      "V10       0\n",
      "V11       0\n",
      "V12       0\n",
      "V13       0\n",
      "V14       0\n",
      "V15       0\n",
      "V16       0\n",
      "V17       0\n",
      "V18       0\n",
      "V19       0\n",
      "V20       0\n",
      "V21       0\n",
      "V22       0\n",
      "V23       0\n",
      "V24       0\n",
      "V25       0\n",
      "V26       0\n",
      "V27       0\n",
      "V28       0\n",
      "Amount    0\n",
      "Class     0\n",
      "dtype: int64\n",
      "Statistics for numeric columns:\n",
      "                Time            V1            V2            V3            V4  \\\n",
      "count  284807.000000  2.848070e+05  2.848070e+05  2.848070e+05  2.848070e+05   \n",
      "mean    94813.859575  1.168375e-15  3.416908e-16 -1.379537e-15  2.074095e-15   \n",
      "std     47488.145955  1.958696e+00  1.651309e+00  1.516255e+00  1.415869e+00   \n",
      "min         0.000000 -5.640751e+01 -7.271573e+01 -4.832559e+01 -5.683171e+00   \n",
      "25%     54201.500000 -9.203734e-01 -5.985499e-01 -8.903648e-01 -8.486401e-01   \n",
      "50%     84692.000000  1.810880e-02  6.548556e-02  1.798463e-01 -1.984653e-02   \n",
      "75%    139320.500000  1.315642e+00  8.037239e-01  1.027196e+00  7.433413e-01   \n",
      "max    172792.000000  2.454930e+00  2.205773e+01  9.382558e+00  1.687534e+01   \n",
      "\n",
      "                 V5            V6            V7            V8            V9  \\\n",
      "count  2.848070e+05  2.848070e+05  2.848070e+05  2.848070e+05  2.848070e+05   \n",
      "mean   9.604066e-16  1.487313e-15 -5.556467e-16  1.213481e-16 -2.406331e-15   \n",
      "std    1.380247e+00  1.332271e+00  1.237094e+00  1.194353e+00  1.098632e+00   \n",
      "min   -1.137433e+02 -2.616051e+01 -4.355724e+01 -7.321672e+01 -1.343407e+01   \n",
      "25%   -6.915971e-01 -7.682956e-01 -5.540759e-01 -2.086297e-01 -6.430976e-01   \n",
      "50%   -5.433583e-02 -2.741871e-01  4.010308e-02  2.235804e-02 -5.142873e-02   \n",
      "75%    6.119264e-01  3.985649e-01  5.704361e-01  3.273459e-01  5.971390e-01   \n",
      "max    3.480167e+01  7.330163e+01  1.205895e+02  2.000721e+01  1.559499e+01   \n",
      "\n",
      "       ...           V21           V22           V23           V24  \\\n",
      "count  ...  2.848070e+05  2.848070e+05  2.848070e+05  2.848070e+05   \n",
      "mean   ...  1.654067e-16 -3.568593e-16  2.578648e-16  4.473266e-15   \n",
      "std    ...  7.345240e-01  7.257016e-01  6.244603e-01  6.056471e-01   \n",
      "min    ... -3.483038e+01 -1.093314e+01 -4.480774e+01 -2.836627e+00   \n",
      "25%    ... -2.283949e-01 -5.423504e-01 -1.618463e-01 -3.545861e-01   \n",
      "50%    ... -2.945017e-02  6.781943e-03 -1.119293e-02  4.097606e-02   \n",
      "75%    ...  1.863772e-01  5.285536e-01  1.476421e-01  4.395266e-01   \n",
      "max    ...  2.720284e+01  1.050309e+01  2.252841e+01  4.584549e+00   \n",
      "\n",
      "                V25           V26           V27           V28         Amount  \\\n",
      "count  2.848070e+05  2.848070e+05  2.848070e+05  2.848070e+05  284807.000000   \n",
      "mean   5.340915e-16  1.683437e-15 -3.660091e-16 -1.227390e-16      88.349619   \n",
      "std    5.212781e-01  4.822270e-01  4.036325e-01  3.300833e-01     250.120109   \n",
      "min   -1.029540e+01 -2.604551e+00 -2.256568e+01 -1.543008e+01       0.000000   \n",
      "25%   -3.171451e-01 -3.269839e-01 -7.083953e-02 -5.295979e-02       5.600000   \n",
      "50%    1.659350e-02 -5.213911e-02  1.342146e-03  1.124383e-02      22.000000   \n",
      "75%    3.507156e-01  2.409522e-01  9.104512e-02  7.827995e-02      77.165000   \n",
      "max    7.519589e+00  3.517346e+00  3.161220e+01  3.384781e+01   25691.160000   \n",
      "\n",
      "               Class  \n",
      "count  284807.000000  \n",
      "mean        0.001727  \n",
      "std         0.041527  \n",
      "min         0.000000  \n",
      "25%         0.000000  \n",
      "50%         0.000000  \n",
      "75%         0.000000  \n",
      "max         1.000000  \n",
      "\n",
      "[8 rows x 31 columns]\n"
     ]
    }
   ],
   "source": [
    "import pandas as pd\n",
    "\n",
    "df = pd.read_csv(\"creditcard.csv\")\n",
    "\n",
    "print(\"First five rows:\")\n",
    "print(df.head())\n",
    "\n",
    "print(\"Missing values in the datas:\")\n",
    "print(df.isnull().sum())\n",
    "\n",
    "print(\"Statistics for numeric columns:\")\n",
    "print(df.describe())"
   ]
  },
  {
   "cell_type": "markdown",
   "id": "a8047e21-414d-4d40-943f-a86931a104bb",
   "metadata": {},
   "source": [
    "2. Normalize Data (specifically amount and time)"
   ]
  },
  {
   "cell_type": "code",
   "execution_count": 3,
   "id": "356610cc-a0dd-4910-947c-6336637d6109",
   "metadata": {},
   "outputs": [
    {
     "name": "stdout",
     "output_type": "stream",
     "text": [
      "Dataset after normalizing Amount and Time:\n",
      "         V1        V2        V3        V4        V5        V6        V7  \\\n",
      "0 -1.359807 -0.072781  2.536347  1.378155 -0.338321  0.462388  0.239599   \n",
      "1  1.191857  0.266151  0.166480  0.448154  0.060018 -0.082361 -0.078803   \n",
      "2 -1.358354 -1.340163  1.773209  0.379780 -0.503198  1.800499  0.791461   \n",
      "3 -0.966272 -0.185226  1.792993 -0.863291 -0.010309  1.247203  0.237609   \n",
      "4 -1.158233  0.877737  1.548718  0.403034 -0.407193  0.095921  0.592941   \n",
      "\n",
      "         V8        V9       V10  ...       V22       V23       V24       V25  \\\n",
      "0  0.098698  0.363787  0.090794  ...  0.277838 -0.110474  0.066928  0.128539   \n",
      "1  0.085102 -0.255425 -0.166974  ... -0.638672  0.101288 -0.339846  0.167170   \n",
      "2  0.247676 -1.514654  0.207643  ...  0.771679  0.909412 -0.689281 -0.327642   \n",
      "3  0.377436 -1.387024 -0.054952  ...  0.005274 -0.190321 -1.175575  0.647376   \n",
      "4 -0.270533  0.817739  0.753074  ...  0.798278 -0.137458  0.141267 -0.206010   \n",
      "\n",
      "        V26       V27       V28  Class  normalized_amount  normalized_time  \n",
      "0 -0.189115  0.133558 -0.021053      0           0.244964        -1.996583  \n",
      "1  0.125895 -0.008983  0.014724      0          -0.342475        -1.996583  \n",
      "2 -0.139097 -0.055353 -0.059752      0           1.160686        -1.996562  \n",
      "3 -0.221929  0.062723  0.061458      0           0.140534        -1.996562  \n",
      "4  0.502292  0.219422  0.215153      0          -0.073403        -1.996541  \n",
      "\n",
      "[5 rows x 31 columns]\n"
     ]
    }
   ],
   "source": [
    "from sklearn.preprocessing import StandardScaler\n",
    "\n",
    "normalizer = StandardScaler()\n",
    "df['normalized_amount'] = normalizer.fit_transform(df[['Amount']])\n",
    "df['normalized_time'] = normalizer.fit_transform(df[['Time']])\n",
    "\n",
    "df = df.drop(['Amount', 'Time'], axis=1)\n",
    "\n",
    "print(\"Dataset after normalizing Amount and Time:\")\n",
    "print(df.head())"
   ]
  },
  {
   "cell_type": "code",
   "execution_count": 4,
   "id": "59e42708-4cd7-41d9-ad3a-d12339ef28cc",
   "metadata": {},
   "outputs": [
    {
     "name": "stdout",
     "output_type": "stream",
     "text": [
      "Missing values in 'Class': 0\n",
      "Unique values in 'Class': [0 1]\n"
     ]
    }
   ],
   "source": [
    "print(\"Missing values in 'Class':\", df['Class'].isnull().sum())\n",
    "print(\"Unique values in 'Class':\", df['Class'].unique())"
   ]
  },
  {
   "cell_type": "markdown",
   "id": "8b55aa44-28dd-4600-9f0b-cbeb15a49eda",
   "metadata": {},
   "source": [
    "3. Split the Data (trianing vs testing sets)"
   ]
  },
  {
   "cell_type": "code",
   "execution_count": 5,
   "id": "484e0298-16c7-4642-a0d6-cb90a13a6bf7",
   "metadata": {},
   "outputs": [
    {
     "name": "stdout",
     "output_type": "stream",
     "text": [
      "Class distribution in the training set:\n",
      "Class\n",
      "0    227451\n",
      "1       394\n",
      "Name: count, dtype: int64\n"
     ]
    }
   ],
   "source": [
    "from sklearn.model_selection import train_test_split\n",
    "\n",
    "X = df.drop('Class', axis=1)\n",
    "y = df['Class']\n",
    "\n",
    "X_train, X_test, y_train, y_test = train_test_split(X, y, test_size=0.2, stratify=y, random_state=42)\n",
    "\n",
    "print(\"Class distribution in the training set:\")\n",
    "print(y_train.value_counts())"
   ]
  },
  {
   "cell_type": "markdown",
   "id": "ebd09977-c4ac-4856-bdb2-793e79be001f",
   "metadata": {},
   "source": [
    "4. Handle Imbalance Data with SMOTE"
   ]
  },
  {
   "cell_type": "code",
   "execution_count": 6,
   "id": "0e13ed61-7efa-4447-a8d2-f19320676130",
   "metadata": {},
   "outputs": [
    {
     "name": "stdout",
     "output_type": "stream",
     "text": [
      "Class distribution after applying SMOTE:\n",
      "Class\n",
      "0    227451\n",
      "1    227451\n",
      "Name: count, dtype: int64\n"
     ]
    }
   ],
   "source": [
    "from imblearn.over_sampling import SMOTE\n",
    "\n",
    "smote = SMOTE(random_state=42)\n",
    "X_train_smote, y_train_smote = smote.fit_resample(X_train, y_train)\n",
    "\n",
    "print(\"Class distribution after applying SMOTE:\")\n",
    "print(y_train_smote.value_counts())"
   ]
  },
  {
   "cell_type": "markdown",
   "id": "8d5861c9-b251-4fd4-a296-898671839181",
   "metadata": {},
   "source": [
    "5. Logistic Regression  Model"
   ]
  },
  {
   "cell_type": "code",
   "execution_count": 7,
   "id": "de2689d2-15a3-416b-9c97-ecaf04a181f0",
   "metadata": {},
   "outputs": [
    {
     "name": "stdout",
     "output_type": "stream",
     "text": [
      "Logistic Regression Classification Report:\n",
      "              precision    recall  f1-score   support\n",
      "\n",
      "           0       1.00      0.97      0.99     56864\n",
      "           1       0.06      0.92      0.11        98\n",
      "\n",
      "    accuracy                           0.97     56962\n",
      "   macro avg       0.53      0.95      0.55     56962\n",
      "weighted avg       1.00      0.97      0.99     56962\n",
      "\n"
     ]
    }
   ],
   "source": [
    "from sklearn.linear_model import LogisticRegression\n",
    "from sklearn.metrics import classification_report, confusion_matrix\n",
    "\n",
    "logreg = LogisticRegression(max_iter=1000, random_state=42)\n",
    "logreg.fit(X_train_smote, y_train_smote)\n",
    "\n",
    "y_pred_logreg = logreg.predict(X_test)\n",
    "\n",
    "print(\"Logistic Regression Classification Report:\")\n",
    "print(classification_report(y_test, y_pred_logreg))"
   ]
  },
  {
   "cell_type": "markdown",
   "id": "2781c51e-c3c6-4431-9f79-a50c69febf10",
   "metadata": {},
   "source": [
    "5a. Logistic Regression  Model - Fine Tuning"
   ]
  },
  {
   "cell_type": "code",
   "execution_count": 8,
   "id": "bc510b20-a06a-41a9-a1bf-74930e3dfeaf",
   "metadata": {},
   "outputs": [
    {
     "name": "stdout",
     "output_type": "stream",
     "text": [
      "Fitting 3 folds for each of 12 candidates, totalling 36 fits\n",
      "Best Parameters from Grid Search:\n",
      "{'C': 1000, 'class_weight': None}\n",
      "Fine Tuned Logistic Regression Classification Report:\n",
      "              precision    recall  f1-score   support\n",
      "\n",
      "           0       1.00      0.97      0.99     56864\n",
      "           1       0.06      0.92      0.11        98\n",
      "\n",
      "    accuracy                           0.97     56962\n",
      "   macro avg       0.53      0.95      0.55     56962\n",
      "weighted avg       1.00      0.97      0.99     56962\n",
      "\n"
     ]
    }
   ],
   "source": [
    "# optimize\n",
    "from sklearn.model_selection import GridSearchCV\n",
    "\n",
    "parameters_grid = {\n",
    "    'C': [0.01, 0.1, 1, 10, 100, 1000],  # different values of regularization strength (smaller values = stronger regularization)\n",
    "    'class_weight': [None, 'balanced']  # testing with or without automatic balancing of class weights\n",
    "}\n",
    "\n",
    "logreg_grid_search = GridSearchCV(\n",
    "    LogisticRegression(max_iter=1000, random_state=42),\n",
    "    parameters_grid,\n",
    "    scoring = 'f1',\n",
    "    cv=  3,  # 3-fold cross validation\n",
    "    verbose = 1\n",
    ")\n",
    "\n",
    "logreg_grid_search.fit(X_train_smote, y_train_smote)\n",
    "\n",
    "print(\"Best Parameters from Grid Search:\")\n",
    "print(logreg_grid_search.best_params_)\n",
    "\n",
    "best_logreg = logreg_grid_search.best_estimator_\n",
    "y_pred_best = best_logreg.predict(X_test)\n",
    "\n",
    "print(\"Fine Tuned Logistic Regression Classification Report:\")\n",
    "print(classification_report(y_test, y_pred_best))"
   ]
  },
  {
   "cell_type": "markdown",
   "id": "f6d18efd-589b-4d35-9832-896839a4bdb0",
   "metadata": {},
   "source": [
    "6. Random Forest  Model"
   ]
  },
  {
   "cell_type": "code",
   "execution_count": 9,
   "id": "f1a4c1c5-bad8-4abb-8f13-1be0bf0b9f06",
   "metadata": {},
   "outputs": [
    {
     "name": "stdout",
     "output_type": "stream",
     "text": [
      "Random Forest Classification Report:\n",
      "              precision    recall  f1-score   support\n",
      "\n",
      "           0       1.00      1.00      1.00     56864\n",
      "           1       0.41      0.86      0.56        98\n",
      "\n",
      "    accuracy                           1.00     56962\n",
      "   macro avg       0.71      0.93      0.78     56962\n",
      "weighted avg       1.00      1.00      1.00     56962\n",
      "\n"
     ]
    }
   ],
   "source": [
    "from sklearn.ensemble import RandomForestClassifier\n",
    "from sklearn.metrics import classification_report, confusion_matrix\n",
    "\n",
    "rf = RandomForestClassifier(\n",
    "    n_estimators = 100,         # of trees\n",
    "    max_depth = 10,            # the max depth of each tree\n",
    "    random_state = 42,    \n",
    "    class_weight = None,\n",
    "    n_jobs = -1,                # speeds up training, helpful since the dataset is large\n",
    "    min_samples_split = 5,      # prevent overfitting \n",
    "    min_samples_leaf = 2       \n",
    ")\n",
    "\n",
    "\n",
    "rf.fit(X_train_smote, y_train_smote)\n",
    "y_pred_rf = rf.predict(X_test)\n",
    "\n",
    "print(\"Random Forest Classification Report:\")\n",
    "print(classification_report(y_test, y_pred_rf))"
   ]
  },
  {
   "cell_type": "markdown",
   "id": "f50cf9c3-bf91-4b0c-9659-808b30a27864",
   "metadata": {},
   "source": [
    "7. Stacked Model (Logistic Regression + Random Forest)"
   ]
  },
  {
   "cell_type": "code",
   "execution_count": 10,
   "id": "0cd8b837-779d-4f5c-a1b3-470ac7a26525",
   "metadata": {},
   "outputs": [
    {
     "name": "stdout",
     "output_type": "stream",
     "text": [
      "Accuracy of the stacked model: 0.9996\n"
     ]
    }
   ],
   "source": [
    "from sklearn.model_selection import StratifiedKFold\n",
    "from sklearn.linear_model import LogisticRegression\n",
    "from sklearn.ensemble import RandomForestClassifier\n",
    "from sklearn.metrics import accuracy_score\n",
    "import numpy as np\n",
    "\n",
    "# convert to numpy arrays for faster indexing\n",
    "X = X.values \n",
    "y = y.values \n",
    "\n",
    "best_logreg = logreg_grid_search.best_estimator_  # best model from the grid search\n",
    "rf_model = RandomForestClassifier(random_state=42, n_jobs=-1)  \n",
    "\n",
    "kf = StratifiedKFold(n_splits=3, shuffle=True, random_state=42)\n",
    "\n",
    "logreg_preds = np.zeros(len(y))\n",
    "rf_preds = np.zeros(len(y))\n",
    "\n",
    "for train_idx, val_idx in kf.split(X, y):\n",
    "    X_train, X_val = X[train_idx], X[val_idx]\n",
    "    y_train, y_val = y[train_idx], y[val_idx]\n",
    "\n",
    "    best_logreg.fit(X_train, y_train)\n",
    "    rf_model.fit(X_train, y_train)\n",
    "\n",
    "    logreg_preds[val_idx] = best_logreg.predict(X_val)\n",
    "    rf_preds[val_idx] = rf_model.predict(X_val)\n",
    "\n",
    "stacked_features = np.column_stack((logreg_preds, rf_preds))\n",
    "\n",
    "meta_model = LogisticRegression()\n",
    "meta_model.fit(stacked_features, y)\n",
    "\n",
    "final_preds = meta_model.predict(stacked_features)\n",
    "\n",
    "accuracy = accuracy_score(y, final_preds)\n",
    "print(f'Accuracy of the stacked model: {accuracy:.4f}')"
   ]
  },
  {
   "cell_type": "markdown",
   "id": "f182cadd-06c1-4c38-8b59-a482952ce28c",
   "metadata": {},
   "source": [
    "8. Stacked Model - Classification Report"
   ]
  },
  {
   "cell_type": "code",
   "execution_count": 11,
   "id": "64186cbc-a0ac-4f75-a8b0-24b834dbe2e3",
   "metadata": {},
   "outputs": [
    {
     "name": "stdout",
     "output_type": "stream",
     "text": [
      "Stacked Model Classification Report:\n",
      "              precision    recall  f1-score   support\n",
      "\n",
      "           0       1.00      1.00      1.00    284315\n",
      "           1       0.95      0.78      0.86       492\n",
      "\n",
      "    accuracy                           1.00    284807\n",
      "   macro avg       0.98      0.89      0.93    284807\n",
      "weighted avg       1.00      1.00      1.00    284807\n",
      "\n",
      "Stacked Model Confusion Matrix:\n",
      "[[284295     20]\n",
      " [   107    385]]\n"
     ]
    }
   ],
   "source": [
    "from sklearn.metrics import classification_report, confusion_matrix\n",
    "\n",
    "print(\"Stacked Model Classification Report:\")\n",
    "print(classification_report(y, final_preds))\n",
    "\n",
    "print(\"Stacked Model Confusion Matrix:\")\n",
    "print(confusion_matrix(y, final_preds))"
   ]
  },
  {
   "cell_type": "markdown",
   "id": "09c26180-3198-4910-8dfc-f27c3921fc65",
   "metadata": {},
   "source": [
    "9. Data Visualization - Heat Map of Stacked Model Confusion Matrix"
   ]
  },
  {
   "cell_type": "code",
   "execution_count": 12,
   "id": "fa2aba6c-6e68-4600-b58a-e773cca7d20d",
   "metadata": {},
   "outputs": [
    {
     "data": {
      "image/png": "[encoded data removed]",
      "text/plain": [
       "<Figure size 640x480 with 2 Axes>"
      ]
     },
     "metadata": {},
     "output_type": "display_data"
    }
   ],
   "source": [
    "import seaborn as sns\n",
    "import matplotlib.pyplot as plt\n",
    "\n",
    "cm = confusion_matrix(y, final_preds)\n",
    "sns.heatmap(cm, annot=True, fmt=\"d\", cmap=\"Blues\", xticklabels=[\"Non-Fraud\", \"Fraud\"], yticklabels=[\"Non-Fraud\", \"Fraud\"])\n",
    "plt.title(\"Confusion Matrix for Stacked Model\")\n",
    "plt.xlabel(\"Predicted\")\n",
    "plt.ylabel(\"Actual\")\n",
    "plt.show()"
   ]
  },
  {
   "cell_type": "markdown",
   "id": "5810bdfd-5dde-43b0-a7a0-7bdf39bbbb86",
   "metadata": {},
   "source": [
    "10. Evaluate Model on Test Set"
   ]
  },
  {
   "cell_type": "code",
   "execution_count": 13,
   "id": "3cb29348-be35-4701-86c9-92325a0f6859",
   "metadata": {},
   "outputs": [
    {
     "name": "stdout",
     "output_type": "stream",
     "text": [
      "Precision: 97.83%\n",
      "Recall: 91.84%\n",
      "Success\n"
     ]
    }
   ],
   "source": [
    "from sklearn.metrics import precision_score, recall_score, classification_report\n",
    "\n",
    "X_test_array = X_test.values if isinstance(X_test, pd.DataFrame) else X_test\n",
    "\n",
    "logreg_test_preds = best_logreg.predict(X_test_array)\n",
    "rf_test_preds = rf_model.predict(X_test_array)\n",
    "\n",
    "stacked_test_features = np.column_stack((logreg_test_preds, rf_test_preds))\n",
    "\n",
    "final_test_preds = meta_model.predict(stacked_test_features)\n",
    "\n",
    "precision = precision_score(y_test, final_test_preds)\n",
    "recall = recall_score(y_test, final_test_preds)\n",
    "\n",
    "\n",
    "print(f\"Precision: {precision:.2%}\")\n",
    "print(f\"Recall: {recall:.2%}\")\n",
    "\n",
    "# success criteria\n",
    "if recall > 0.70 and precision > 0.80:\n",
    "    print(\"Success\")\n",
    "else:\n",
    "    print(\"Failure\")"
   ]
  },
  {
   "cell_type": "markdown",
   "id": "bac8ebc3-7df2-459b-85d0-14c62db25997",
   "metadata": {},
   "source": [
    "11. Database Connection"
   ]
  },
  {
   "cell_type": "code",
   "execution_count": 14,
   "id": "d34b7b59-c268-4c16-a76f-8b3f2f5cbac9",
   "metadata": {},
   "outputs": [],
   "source": [
    "import sqlite3\n",
    "\n",
    "# connect to SQLite \n",
    "conn = sqlite3.connect('fraud_detection.db')\n",
    "cursor = conn.cursor()"
   ]
  },
  {
   "cell_type": "markdown",
   "id": "beac2de2-4062-4a4d-b872-a3d2b61e1c4d",
   "metadata": {},
   "source": [
    "12. Create Tables (Transaction + Predictions)"
   ]
  },
  {
   "cell_type": "code",
   "execution_count": 15,
   "id": "92c0498b-7d44-48c8-8613-c26191890484",
   "metadata": {},
   "outputs": [],
   "source": [
    "# Transactions table\n",
    "cursor.execute('''\n",
    "CREATE TABLE IF NOT EXISTS Transactions (\n",
    "    ID INTEGER PRIMARY KEY,\n",
    "    Time REAL,\n",
    "    Amount REAL,\n",
    "    V1 REAL, V2 REAL, V3 REAL, V4 REAL, V5 REAL, V6 REAL, V7 REAL, V8 REAL, V9 REAL, V10 REAL, \n",
    "    V11 REAL, V12 REAL, V13 REAL, V14 REAL, V15 REAL, V16 REAL, V17 REAL, V18 REAL, V19 REAL, \n",
    "    V20 REAL, V21 REAL, V22 REAL, V23 REAL, V24 REAL, V25 REAL, V26 REAL, V27 REAL, V28 REAL,\n",
    "    Class INTEGER\n",
    ")\n",
    "''')\n",
    "\n",
    "# Predictions table\n",
    "cursor.execute('''\n",
    "CREATE TABLE IF NOT EXISTS Predictions (\n",
    "    Transaction_ID INTEGER,\n",
    "    Predicted_Class INTEGER,\n",
    "    Model_Type TEXT,\n",
    "    Prediction_Date TEXT,\n",
    "    FOREIGN KEY(Transaction_ID) REFERENCES Transactions(ID)\n",
    ")\n",
    "''')\n",
    "\n",
    "print(\"Tables created\")"
   ]
  },
  {
   "cell_type": "code",
   "execution_count": 21,
   "id": "da081f60-32d9-4d7c-a69c-6a9ac8dbd0d4",
   "metadata": {
    "scrolled": true
   },
   "outputs": [
    {
     "data": {
      "text/plain": [
       "<sqlite3.Cursor at 0x7f42ba539a40>"
      ]
     },
     "execution_count": 21,
     "metadata": {},
     "output_type": "execute_result"
    }
   ],
   "source": [
    "cursor.execute('''\n",
    "ALTER TABLE Transactions ADD COLUMN Normalized_Amount REAL;\n",
    "''')\n",
    "\n",
    "cursor.execute('''\n",
    "ALTER TABLE Transactions ADD COLUMN Normalized_Time REAL;\n",
    "''')"
   ]
  },
  {
   "cell_type": "code",
   "execution_count": 33,
   "id": "26f44551-494e-4f25-ac1d-0d39084fdf91",
   "metadata": {},
   "outputs": [
    {
     "data": {
      "text/plain": [
       "<sqlite3.Cursor at 0x7f42ba539a40>"
      ]
     },
     "execution_count": 33,
     "metadata": {},
     "output_type": "execute_result"
    }
   ],
   "source": [
    "cursor.execute(\"PRAGMA foreign_keys=off\")  \n",
    "cursor.execute(\"CREATE TABLE Transactions_new AS SELECT V1, V2, V3, V4, V5, V6, V7, V8, V9, V10, V11, V12, V13, V14, V15, V16, V17, V18, V19, V20, V21, V22, V23, V24, V25, V26, V27, V28, Class, normalized_amount, normalized_time FROM Transactions\")\n",
    "cursor.execute(\"DROP TABLE Transactions\") \n",
    "cursor.execute(\"ALTER TABLE Transactions_new RENAME TO Transactions\") \n",
    "cursor.execute(\"PRAGMA foreign_keys=on\")  "
   ]
  },
  {
   "cell_type": "code",
   "execution_count": 43,
   "id": "056675de-39c0-4e9e-939b-d783e106f2aa",
   "metadata": {},
   "outputs": [],
   "source": [
    "transaction_data = []\n",
    "\n",
    "for i, row in df.iterrows():\n",
    "    values = row[['V1', 'V2', 'V3', 'V4', 'V5', 'V6', 'V7', 'V8', 'V9', 'V10', \n",
    "                  'V11', 'V12', 'V13', 'V14', 'V15', 'V16', 'V17', 'V18', 'V19', 'V20', \n",
    "                  'V21', 'V22', 'V23', 'V24', 'V25', 'V26', 'V27', 'V28', 'Class', \n",
    "                  'normalized_amount', 'normalized_time']].values\n",
    "    values_to_insert.append(tuple(values))\n",
    "\n",
    "cursor.executemany('''\n",
    "    INSERT INTO Transactions (V1, V2, V3, V4, V5, V6, V7, V8, V9, V10, V11, V12, \n",
    "                             V13, V14, V15, V16, V17, V18, V19, V20, V21, V22, V23, \n",
    "                             V24, V25, V26, V27, V28, Class, Normalized_Amount, Normalized_Time)\n",
    "    VALUES (?, ?, ?, ?, ?, ?, ?, ?, ?, ?, ?, ?, ?, ?, ?, ?, ?, ?, ?, ?, ?, ?, ?, \n",
    "            ?, ?, ?, ?, ?, ?, ?, ?)\n",
    "''', transaction_data)\n",
    "\n",
    "conn.commit()"
   ]
  },
  {
   "cell_type": "code",
   "execution_count": 44,
   "id": "80a486de-aae6-45d1-8a5e-d16e43621153",
   "metadata": {},
   "outputs": [
    {
     "name": "stdout",
     "output_type": "stream",
     "text": [
      "658598\n"
     ]
    }
   ],
   "source": [
    "cursor.execute(\"SELECT COUNT(*) FROM Transactions\")\n",
    "print(cursor.fetchone()[0])  # prints the number of rows inserted"
   ]
  },
  {
   "cell_type": "code",
   "execution_count": 16,
   "id": "134ec3c5-52ac-4ade-8e95-6b855079cd7b",
   "metadata": {},
   "outputs": [
    {
     "name": "stderr",
     "output_type": "stream",
     "text": [
      "/tmp/ipykernel_2130546/1292926064.py:14: DeprecationWarning: The default datetime adapter is deprecated as of Python 3.12; see the sqlite3 documentation for suggested replacement recipes\n",
      "  cursor.executemany('''\n"
     ]
    },
    {
     "name": "stdout",
     "output_type": "stream",
     "text": [
      "56962 predictions inserted into the database.\n"
     ]
    }
   ],
   "source": [
    "import datetime\n",
    "\n",
    "prediction_data = []\n",
    "for idx, pred in enumerate(final_test_preds): \n",
    "    prediction_data.append((\n",
    "        idx,                     \n",
    "        int(pred),                \n",
    "        'StackedModel',           \n",
    "        datetime.datetime.now()   \n",
    "    ))\n",
    "\n",
    "cursor.executemany('''\n",
    "    INSERT INTO Predictions (Transaction_ID, Predicted_Class, Model_Type, Prediction_Date)\n",
    "    VALUES (?, ?, ?, ?)\n",
    "''', prediction_data)\n",
    "conn.commit()\n",
    "print(f\"{len(prediction_data)} predictions inserted into the database.\")"
   ]
  },
  {
   "cell_type": "code",
   "execution_count": 20,
   "id": "90e2b961-c357-4f7d-b368-920ce366d93a",
   "metadata": {},
   "outputs": [
    {
     "name": "stdout",
     "output_type": "stream",
     "text": [
      "Number of fraud predictions: 92\n"
     ]
    }
   ],
   "source": [
    "cursor.execute(\"SELECT * FROM Predictions WHERE Predicted_Class = 1\")\n",
    "fraud_predictions = cursor.fetchall()\n",
    "print(f\"Number of fraud predictions: {len(fraud_predictions)}\")"
   ]
  },
  {
   "cell_type": "code",
   "execution_count": 20,
   "id": "e7863bbc-f7a5-4ed0-b3d9-3c54ce6f5e11",
   "metadata": {},
   "outputs": [
    {
     "name": "stdout",
     "output_type": "stream",
     "text": [
      "[(0.2240853499584882, 943), (-0.2317860353428663, 255)]\n"
     ]
    }
   ],
   "source": [
    "cursor.execute('''\n",
    "    SELECT zized_Amount), COUNT(*)\n",
    "    FROM Transactions\n",
    "    WHERE Class = 1\n",
    "    GROUP BY (V1 > 0)\n",
    "''')\n",
    "results = cursor.fetchall()\n",
    "print(results)"
   ]
  }
 ],
 "metadata": {
  "kernelspec": {
   "display_name": "Python 3 (ipykernel)",
   "language": "python",
   "name": "python3"
  },
  "language_info": {
   "codemirror_mode": {
    "name": "ipython",
    "version": 3
   },
   "file_extension": ".py",
   "mimetype": "text/x-python",
   "name": "python",
   "nbconvert_exporter": "python",
   "pygments_lexer": "ipython3",
   "version": "3.12.2"
  }
 },
 "nbformat": 4,
 "nbformat_minor": 5
}
